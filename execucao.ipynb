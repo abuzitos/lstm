{
 "cells": [
  {
   "cell_type": "code",
   "execution_count": 19,
   "metadata": {},
   "outputs": [],
   "source": [
    "# Modelo LSTM\n",
    "# python3 -m venv env\n",
    "# source env/bin/activate\n",
    "# https://scikit-learn.org/stable/modules/generated/sklearn.linear_model.Perceptron.html\n"
   ]
  },
  {
   "cell_type": "code",
   "execution_count": 20,
   "metadata": {},
   "outputs": [],
   "source": [
    "import numpy as np\n",
    "from sklearn.preprocessing import MinMaxScaler\n",
    "from tensorflow.keras.models import load_model\n",
    "import joblib\n",
    "from tensorflow.keras.losses import MeanSquaredError\n",
    "import tensorflow as tf\n"
   ]
  },
  {
   "cell_type": "code",
   "execution_count": 21,
   "metadata": {},
   "outputs": [
    {
     "name": "stdout",
     "output_type": "stream",
     "text": [
      "X_new shape: (6, 2, 3)\n"
     ]
    },
    {
     "name": "stdout",
     "output_type": "stream",
     "text": [
      "Previsões:\n",
      "[[43.76998    48.52135     0.8893254 ]\n",
      " [45.51436    49.80919     0.8998455 ]\n",
      " [47.704144   51.748486    0.9077573 ]\n",
      " [49.509468   53.375256    0.91485447]\n",
      " [48.93977    52.498466    0.91777813]\n",
      " [46.935852   50.955116    0.9072458 ]]\n"
     ]
    }
   ],
   "source": [
    "# Dados para previsão\n",
    "new_data = np.array([\n",
    "    [51, 49, 1.04],\n",
    "    [56, 53, 1.05],\n",
    "    [62, 61, 1.01],\n",
    "    [60, 65, 0.92],\n",
    "    [69, 70, 0.98],\n",
    "    [58, 55, 1.05],\n",
    "    [68, 70, 0.97]\n",
    "])\n",
    "\n",
    "# Carregar o escalador salvo\n",
    "scaler = joblib.load('scaler.joblib')\n",
    "\n",
    "# Escalar os novos dados\n",
    "new_data_scaled = scaler.transform(new_data)\n",
    "\n",
    "# Transformar os dados para a forma [samples, time steps, features]\n",
    "time_step = 2\n",
    "X_new = []\n",
    "\n",
    "for i in range(len(new_data_scaled) - time_step + 1):\n",
    "    X_new.append(new_data_scaled[i:(i + time_step), :])\n",
    "\n",
    "X_new = np.array(X_new)\n",
    "print(f'X_new shape: {X_new.shape}')  # Esperado: (n_samples, time_steps, n_features)\n",
    "\n",
    "# Carregar o modelo treinado no novo formato .keras\n",
    "model = load_model('modelo_treinado.keras')\n",
    "\n",
    "# Compilar o modelo novamente após carregar\n",
    "model.compile(optimizer='adam', loss=MeanSquaredError())\n",
    "\n",
    "# Definindo a função de previsão fora do loop\n",
    "# time_step = Numero de time steps, dexiar igual ao software de abstração\n",
    "# 3 = Numero de features (colunas do dataset / array)\n",
    "@tf.function(input_signature=[tf.TensorSpec(shape=[None, time_step, 3], dtype=tf.float32)])\n",
    "def predict_function(input_data):\n",
    "    return model(input_data, training=False)\n",
    "\n",
    "# Fazer previsões\n",
    "predictions = predict_function(tf.convert_to_tensor(X_new, dtype=tf.float32))\n",
    "\n",
    "# Inverter a escala das previsões\n",
    "predictions_inversed = scaler.inverse_transform(predictions.numpy())\n",
    "\n",
    "# Exibir previsões\n",
    "print(\"Previsões:\")\n",
    "print(predictions_inversed)"
   ]
  }
 ],
 "metadata": {
  "kernelspec": {
   "display_name": "env",
   "language": "python",
   "name": "python3"
  },
  "language_info": {
   "codemirror_mode": {
    "name": "ipython",
    "version": 3
   },
   "file_extension": ".py",
   "mimetype": "text/x-python",
   "name": "python",
   "nbconvert_exporter": "python",
   "pygments_lexer": "ipython3",
   "version": "3.11.2"
  }
 },
 "nbformat": 4,
 "nbformat_minor": 2
}
