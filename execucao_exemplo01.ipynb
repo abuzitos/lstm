{
 "cells": [
  {
   "cell_type": "code",
   "execution_count": 1,
   "metadata": {},
   "outputs": [
    {
     "name": "stderr",
     "output_type": "stream",
     "text": [
      "2024-06-13 05:31:30.319514: I external/local_tsl/tsl/cuda/cudart_stub.cc:32] Could not find cuda drivers on your machine, GPU will not be used.\n",
      "2024-06-13 05:31:30.328880: I external/local_tsl/tsl/cuda/cudart_stub.cc:32] Could not find cuda drivers on your machine, GPU will not be used.\n",
      "2024-06-13 05:31:30.419423: I tensorflow/core/platform/cpu_feature_guard.cc:210] This TensorFlow binary is optimized to use available CPU instructions in performance-critical operations.\n",
      "To enable the following instructions: AVX2 FMA, in other operations, rebuild TensorFlow with the appropriate compiler flags.\n",
      "2024-06-13 05:31:32.883265: W tensorflow/compiler/tf2tensorrt/utils/py_utils.cc:38] TF-TRT Warning: Could not find TensorRT\n"
     ]
    },
    {
     "name": "stdout",
     "output_type": "stream",
     "text": [
      "   velocidade  velocidade_desejada  felicidade_equipe  felicidade_cliente  \\\n",
      "0           7                   19                2.5                 2.5   \n",
      "1          18                   27                2.5                 7.5   \n",
      "2          73                    9                5.0                10.0   \n",
      "3          99                   17                7.5                10.0   \n",
      "4           9                   88               10.0                 2.5   \n",
      "\n",
      "   confianca_entrega  total_pessoas_equipe  horas_extras_sim  horas_extras_nao  \n",
      "0                7.5                    10              True             False  \n",
      "1               10.0                     8              True             False  \n",
      "2                5.0                     3              True             False  \n",
      "3                2.5                     3             False              True  \n",
      "4                7.5                     0              True             False  \n",
      "[[7 19 2.5 2.5 7.5 10 True False]\n",
      " [18 27 2.5 7.5 10.0 8 True False]\n",
      " [73 9 5.0 10.0 5.0 3 True False]\n",
      " [99 17 7.5 10.0 2.5 3 False True]\n",
      " [9 88 10.0 2.5 7.5 0 True False]]\n",
      "X_test shape: (198, 3, 8)\n"
     ]
    },
    {
     "name": "stderr",
     "output_type": "stream",
     "text": [
      "/home/abu/Desenvolvimento/Gabriel/env/lib/python3.11/site-packages/sklearn/base.py:493: UserWarning: X does not have valid feature names, but MinMaxScaler was fitted with feature names\n",
      "  warnings.warn(\n"
     ]
    },
    {
     "name": "stdout",
     "output_type": "stream",
     "text": [
      "Previsões nos dados de teste:\n",
      "[[48.71842    49.114334    6.4555206  ...  5.027375    0.60628027\n",
      "   0.4164394 ]\n",
      " [45.54611    55.014072    6.0238028  ...  4.9120417   0.48555434\n",
      "   0.5371782 ]\n",
      " [45.392715   49.271595    5.8260555  ...  5.5216923   0.468619\n",
      "   0.520617  ]\n",
      " ...\n",
      " [52.31076    53.35618     6.8365097  ...  4.501988    0.6549139\n",
      "   0.34863633]\n",
      " [51.055836   57.255024    6.155848   ...  4.969801    0.52811635\n",
      "   0.4746403 ]\n",
      " [52.001278   57.93815     5.8121223  ...  5.2838063   0.52161676\n",
      "   0.5059376 ]]\n"
     ]
    }
   ],
   "source": [
    "import numpy as np\n",
    "import pandas as pd\n",
    "from sklearn.preprocessing import MinMaxScaler\n",
    "from tensorflow.keras.models import load_model\n",
    "import joblib\n",
    "import tensorflow as tf\n",
    "\n",
    "# Definindo os parâmetros para os dados de teste\n",
    "num_test_samples = 200  # Número de amostras de teste\n",
    "velocidade_test = np.random.randint(0, 101, num_test_samples)\n",
    "velocidade_desejada_test = np.random.randint(0, 101, num_test_samples)\n",
    "felicidade_equipe_test = np.random.choice([10, 7.5, 5, 2.5], num_test_samples)\n",
    "felicidade_cliente_test = np.random.choice([10, 7.5, 5, 2.5], num_test_samples)\n",
    "confianca_entrega_test = np.random.choice([10, 7.5, 5, 2.5], num_test_samples)\n",
    "total_pessoas_equipe_test = np.random.randint(0, 11, num_test_samples)\n",
    "horas_extras_test = np.random.choice(['sim', 'não'], num_test_samples)\n",
    "\n",
    "# Codificação one-hot para horas extras\n",
    "horas_extras_encoded_test = pd.get_dummies(horas_extras_test)\n",
    "\n",
    "# Criando o DataFrame para dados de teste\n",
    "test_data = pd.DataFrame({\n",
    "    'velocidade': velocidade_test,\n",
    "    'velocidade_desejada': velocidade_desejada_test,\n",
    "    'felicidade_equipe': felicidade_equipe_test,\n",
    "    'felicidade_cliente': felicidade_cliente_test,\n",
    "    'confianca_entrega': confianca_entrega_test,\n",
    "    'total_pessoas_equipe': total_pessoas_equipe_test,\n",
    "    'horas_extras_sim': horas_extras_encoded_test['sim'],\n",
    "    'horas_extras_nao': horas_extras_encoded_test['não']\n",
    "})\n",
    "\n",
    "# Exibindo as primeiras linhas do DataFrame de teste\n",
    "print(test_data.head())\n",
    "\n",
    "# Convertendo o DataFrame em um array numpy\n",
    "test_data_array = test_data.to_numpy()\n",
    "print(test_data_array[:5])  # Mostrando as primeiras 5 linhas do array para verificação\n",
    "\n",
    "# Carregar o escalador salvo\n",
    "scaler = joblib.load('scaler.joblib')\n",
    "\n",
    "# Escalar os dados de teste\n",
    "test_data_scaled = scaler.transform(test_data_array)\n",
    "\n",
    "# Transformar os dados para a forma [samples, time steps, features]\n",
    "time_step = 3\n",
    "X_test = []\n",
    "\n",
    "for i in range(len(test_data_scaled) - time_step + 1):\n",
    "    X_test.append(test_data_scaled[i:(i + time_step), :])\n",
    "\n",
    "X_test = np.array(X_test)\n",
    "print(f'X_test shape: {X_test.shape}')  # Esperado: (n_samples, time_steps, n_features)\n",
    "\n",
    "# Carregar o modelo treinado no novo formato .keras\n",
    "model = load_model('modelo_treinado.keras')\n",
    "\n",
    "# Compilar o modelo novamente após carregar\n",
    "model.compile(optimizer='adam', loss=tf.keras.losses.MeanSquaredError())\n",
    "\n",
    "# Definindo a função de previsão fora do loop\n",
    "@tf.function(input_signature=[tf.TensorSpec(shape=[None, time_step, X_test.shape[2]], dtype=tf.float32)])\n",
    "def predict_function(input_data):\n",
    "    return model(input_data, training=False)\n",
    "\n",
    "# Fazer previsões nos dados de teste\n",
    "test_predictions = predict_function(tf.convert_to_tensor(X_test, dtype=tf.float32))\n",
    "\n",
    "# Inverter a escala das previsões\n",
    "test_predictions_inversed = scaler.inverse_transform(test_predictions.numpy())\n",
    "\n",
    "# Exibir previsões\n",
    "print(\"Previsões nos dados de teste:\")\n",
    "print(test_predictions_inversed)\n"
   ]
  }
 ],
 "metadata": {
  "kernelspec": {
   "display_name": "env",
   "language": "python",
   "name": "python3"
  },
  "language_info": {
   "codemirror_mode": {
    "name": "ipython",
    "version": 3
   },
   "file_extension": ".py",
   "mimetype": "text/x-python",
   "name": "python",
   "nbconvert_exporter": "python",
   "pygments_lexer": "ipython3",
   "version": "3.11.2"
  }
 },
 "nbformat": 4,
 "nbformat_minor": 2
}
